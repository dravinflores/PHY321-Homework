{
 "cells": [
  {
   "cell_type": "markdown",
   "metadata": {},
   "source": [
    "# PHY 321 - Homework 1\n",
    "Dravin Flores\n",
    "\n",
    "---"
   ]
  },
  {
   "cell_type": "markdown",
   "metadata": {},
   "source": [
    "### Problem 1\n",
    "\n",
    "a. Taylor Expansions of $\\cos{(\\omega t)}$ and $\\sin{(\\omega t)}$ at $t = 0$"
   ]
  },
  {
   "cell_type": "markdown",
   "metadata": {},
   "source": [
    "$\\quad$ (1) $\\quad \\cos{(\\omega t)} = 1 - \\frac{\\omega^2 t^2}{2} + \\frac{\\omega^4 t^4}{24} + O\\left(t^6\\right)$"
   ]
  },
  {
   "cell_type": "markdown",
   "metadata": {},
   "source": [
    "$\\quad$ (2) $\\quad \\sin{(\\omega t)} = \\omega t - \\frac{\\omega^3 t^3}{6} + \\frac{\\omega^5 t^5}{120} + O\\left(t^6\\right)$"
   ]
  },
  {
   "cell_type": "markdown",
   "metadata": {},
   "source": [
    "b. Taylor Expansion of $e^{i \\omega t}$ at $t = 0$"
   ]
  },
  {
   "cell_type": "markdown",
   "metadata": {},
   "source": [
    "$\\quad e^{i \\omega t} = 1 + i \\omega t - \\frac{\\omega^2 t^2}{2} - \\frac{i \\omega^3 t^3}{6} + \\frac{\\omega^4 t^4}{24} + O\\left(t^5\\right)$"
   ]
  },
  {
   "cell_type": "markdown",
   "metadata": {},
   "source": [
    "\n",
    "c. Show that the Taylor Expansion of $e^{i \\omega t}$ at $t = 0$ is equivalent to the sum of the Taylor Expansions of $\\cos{(\\omega t)}$ and $\\sin{(\\omega t)}$ at $t = 0$"
   ]
  },
  {
   "cell_type": "markdown",
   "metadata": {},
   "source": [
    "$\\quad$ (1) $\\quad e^{i \\omega t} = 1 + i \\omega t - \\frac{\\omega^2 t^2}{2} - \\frac{i \\omega^3 t^3}{6} + \\frac{\\omega^4 t^4}{24} + O\\left(t^5\\right)$"
   ]
  },
  {
   "cell_type": "markdown",
   "metadata": {},
   "source": [
    "$\\quad$ (2) $\\quad = \\left(1 - \\frac{\\omega^2 t^2}{2} + \\frac{\\omega^4 t^4}{24} + \\ldots\\right) + i\\left(\\omega t - \\frac{\\omega^3 t^3}{6} + \\frac{\\omega^5 t^5}{120} + \\ldots\\right)$"
   ]
  },
  {
   "cell_type": "markdown",
   "metadata": {},
   "source": [
    "$\\quad$ (3) $\\quad = \\cos{(\\omega t)} + i\\sin{(\\omega t)}$"
   ]
  },
  {
   "cell_type": "markdown",
   "metadata": {},
   "source": [
    "d. Show that $\\ln{(i \\pi)} = -1$"
   ]
  },
  {
   "cell_type": "markdown",
   "metadata": {},
   "source": [
    "$\\quad$ (1) $\\quad e^{i \\omega t} = \\cos{(\\omega t)} + i\\sin{(\\omega t)}$"
   ]
  },
  {
   "cell_type": "markdown",
   "metadata": {},
   "source": [
    "$\\quad$ (2) $\\quad e^{i \\omega \\pi} = \\cos{(\\omega \\pi) + i\\sin{(\\omega \\pi)}}$"
   ]
  },
  {
   "cell_type": "markdown",
   "metadata": {},
   "source": [
    "$\\quad$ (3) $\\quad = -1 + 0$"
   ]
  },
  {
   "cell_type": "markdown",
   "metadata": {},
   "source": [
    "$\\quad$ (4) $\\quad = -1$"
   ]
  },
  {
   "cell_type": "markdown",
   "metadata": {},
   "source": [
    "### Problem 2"
   ]
  },
  {
   "cell_type": "markdown",
   "metadata": {},
   "source": [
    "a. Find the angle between the two vectors $\\boldsymbol{a} = (1, 2, 4)$ and $\\boldsymbol{b} = (4, 2, 1)$ using the scalar product"
   ]
  },
  {
   "cell_type": "markdown",
   "metadata": {},
   "source": [
    "$\\quad$ (1) $\\quad \\boldsymbol{x} \\cdot \\boldsymbol{y} = \\|\\boldsymbol{x}\\| \\cdot \\|\\boldsymbol{y}\\| \\cdot \\cos{\\theta}$"
   ]
  },
  {
   "cell_type": "markdown",
   "metadata": {},
   "source": [
    "$\\quad$ (2) $\\quad \\cos{\\theta} = \\frac{\\boldsymbol{x} \\cdot \\boldsymbol{y}}{\\| \\boldsymbol{x} \\| \\cdot \\| \\boldsymbol{y} \\|}$"
   ]
  },
  {
   "cell_type": "markdown",
   "metadata": {},
   "source": [
    "$\\quad$ (3) $\\quad \\boldsymbol{a} \\cdot \\boldsymbol{b} = 4\\cdot1 + 2\\cdot2 + 4\\cdot1 = 12$"
   ]
  },
  {
   "cell_type": "markdown",
   "metadata": {},
   "source": [
    "$\\quad$ (4) $\\quad \\| \\boldsymbol{a} \\| = \\sqrt{21}, \\quad \\| \\boldsymbol{b} \\| = \\sqrt{21} \\quad \\Rightarrow \\quad \\| \\boldsymbol{x} \\| \\cdot \\| \\boldsymbol{y} \\| = 21$"
   ]
  },
  {
   "cell_type": "markdown",
   "metadata": {},
   "source": [
    "$\\quad$ (4) $\\quad \\cos{\\theta} = \\arccos{\\left(\\frac{12}{21}\\right)} \\approx 55.15^\\circ$"
   ]
  },
  {
   "cell_type": "markdown",
   "metadata": {},
   "source": [
    "b. Find the lengths and angles of the vectors $\\boldsymbol{a} = (1, 1, 1)$ and $\\boldsymbol{b} = (1, 1, 0)$"
   ]
  },
  {
   "cell_type": "markdown",
   "metadata": {},
   "source": [
    "$\\quad$ (1) $\\quad L_{a} = \\|\\boldsymbol{a}\\| = \\sqrt{3}$"
   ]
  },
  {
   "cell_type": "markdown",
   "metadata": {},
   "source": [
    "$\\quad$ (2) $\\quad L_{b} = \\|\\boldsymbol{b}\\| = \\sqrt{2}$"
   ]
  },
  {
   "cell_type": "markdown",
   "metadata": {},
   "source": [
    "$\\quad$ (3) $\\quad \\boldsymbol{a} \\cdot \\boldsymbol{b} = 1\\cdot1 + 1\\cdot1 + 1\\cdot0 = 2$"
   ]
  },
  {
   "cell_type": "markdown",
   "metadata": {},
   "source": [
    "$\\quad$ (4) $\\quad \\cos{\\theta} = \\frac{\\boldsymbol{a} \\cdot \\boldsymbol{b}}{\\|\\boldsymbol{a}\\| \\cdot \\|\\boldsymbol{b}\\|} = \\frac{2}{\\sqrt{3}\\sqrt{2}} = \\frac{2}{\\sqrt{6}}$"
   ]
  },
  {
   "cell_type": "markdown",
   "metadata": {},
   "source": [
    "$\\quad$ (5) $\\quad \\theta = \\arccos{\\left(\\frac{2}{\\sqrt{6}}\\right)} \\approx 35.26^\\circ$"
   ]
  },
  {
   "cell_type": "markdown",
   "metadata": {},
   "source": [
    "### Problem 3\n",
    "a. Show that $\\boldsymbol{a}\\left(\\boldsymbol{b}+\\boldsymbol{c}\\right)=\\boldsymbol{a}\\boldsymbol{b}+\\boldsymbol{a}\\boldsymbol{c}$"
   ]
  },
  {
   "cell_type": "markdown",
   "metadata": {},
   "source": [
    "$\\quad$ (1) $\\quad$ Let the vector $\\boldsymbol{v}$ be the sum of the two vectors $$\\boldsymbol{a} + \\boldsymbol{b} \\quad \\Rightarrow \\quad \\boldsymbol{a}\\left(\\boldsymbol{b}+\\boldsymbol{c}\\right) = \\boldsymbol{a} \\cdot \\boldsymbol{v}$$"
   ]
  },
  {
   "cell_type": "markdown",
   "metadata": {},
   "source": [
    "$\\quad$ (2) $\\quad$ This means that $$v_i = b_i + c_i \\quad \\text{for} \\quad i \\in \\mathbb{Z} \\quad \\Rightarrow \\quad v_i, b_i, c_i \\in \\mathbb{R}$$"
   ]
  },
  {
   "cell_type": "markdown",
   "metadata": {},
   "source": [
    "$\\quad$ (3) $\\quad$ We define the dot product as $$\\boldsymbol{a} \\cdot \\boldsymbol{b} = \\sum_{i = 1}^{n} a_i b_i \\\\ \\sum_{i = 1}^{n} a_i b_i \\in \\mathbb{R} \\quad \\Rightarrow \\quad \\boldsymbol{a} \\cdot \\boldsymbol{b} \\in \\mathbb{R}$$"
   ]
  },
  {
   "cell_type": "markdown",
   "metadata": {},
   "source": [
    "$\\quad$ (4) $\\quad$ Thus we can see that $$\\boldsymbol{a} \\cdot \\boldsymbol{v} = \\sum_{i=1}^{n}a_i v_i = \\sum_{i=1}^{n}a_i (b_i + c_i)$$"
   ]
  },
  {
   "cell_type": "markdown",
   "metadata": {},
   "source": [
    "$\\quad$ (5) $\\quad$ As $a_i, b_i, c_i, v_i \\in \\mathbb{R}$, we take the Axiom of Distributivity for real numbers (without proof), and state that $$\\boldsymbol{a} \\cdot \\boldsymbol{v} = \\sum_{i=1}^{n} a_i v_i = \\sum_{i=1}^{n} a_i \\cdot \\left(b_i + c_i\\right) = \\sum_{i=1}^{n} a_i b_i + a_i c_i$$"
   ]
  },
  {
   "cell_type": "markdown",
   "metadata": {},
   "source": [
    "$\\quad$ (6) $\\quad$ Clearly, we can see that $$\\sum_{i=1}^{n} a_i b_i + a_i c_i = \\sum_{i=1}^{n} a_i b_i + \\sum_{i=1}^{n}a_i c_i = \\boldsymbol{a} \\cdot \\boldsymbol{b} + \\boldsymbol{a} \\cdot \\boldsymbol{c}$$"
   ]
  },
  {
   "cell_type": "markdown",
   "metadata": {},
   "source": [
    "$\\quad$ (7) $\\quad$ Which means that $$\\boldsymbol{a} \\cdot \\boldsymbol{v} = \\boldsymbol{a} \\cdot \\boldsymbol{b} + \\boldsymbol{a} \\cdot \\boldsymbol{c} \\quad \\Rightarrow \\quad \\boldsymbol{a} \\cdot \\left(\\boldsymbol{b} + \\boldsymbol{c}\\right) = \\boldsymbol{a} \\cdot \\boldsymbol{b} + \\boldsymbol{a} \\cdot \\boldsymbol{c}$$"
   ]
  },
  {
   "cell_type": "markdown",
   "metadata": {},
   "source": [
    "b. Show that $\\frac{d}{dt}\\left(\\boldsymbol{a}\\boldsymbol{b}\\right)=\\boldsymbol{a}\\frac{d\\boldsymbol{b}}{dt}+\\boldsymbol{b}\\frac{d\\boldsymbol{a}}{dt}$"
   ]
  },
  {
   "cell_type": "markdown",
   "metadata": {},
   "source": [
    "$\\quad$ (1) $\\quad$ Firstly, $$\\boldsymbol{a}\\boldsymbol{b} = \\sum_{i=1}^{n}a_i b_i \\quad \\Rightarrow \\quad \\frac{d}{dt}\\left(\\boldsymbol{a}\\boldsymbol{b}\\right) = \\frac{d}{dt}\\left(\\sum_{i=1}^{n}a_i b_i\\right)$$"
   ]
  },
  {
   "cell_type": "markdown",
   "metadata": {},
   "source": [
    "$\\quad$ (2) $\\quad$ Suppose that $$\\boldsymbol{a} = \\left(f_1\\left(x\\right), f_2\\left(x\\right), \\ldots, f_i\\left(x\\right)\\right) \\\\ \\boldsymbol{b} = \\left(g_1\\left(x\\right), g_2\\left(x\\right), \\ldots, g_i\\left(x\\right)\\right)$$"
   ]
  },
  {
   "cell_type": "markdown",
   "metadata": {},
   "source": [
    "$\\quad$ (3) $\\quad$ This means that we have $$\\frac{d}{dt}\\left(\\boldsymbol{a}\\boldsymbol{b}\\right) = \\frac{d}{dt}\\left(\\sum_{i=1}^{n}a_i b_i\\right) = \\frac{d}{dt}\\left(\\sum_{i=1}^{n}f_i(x) g_i(x)\\right)$$"
   ]
  },
  {
   "cell_type": "markdown",
   "metadata": {},
   "source": []
  }
 ],
 "metadata": {
  "kernelspec": {
   "display_name": "Python 3",
   "language": "python",
   "name": "python3"
  },
  "language_info": {
   "codemirror_mode": {
    "name": "ipython",
    "version": 3
   },
   "file_extension": ".py",
   "mimetype": "text/x-python",
   "name": "python",
   "nbconvert_exporter": "python",
   "pygments_lexer": "ipython3",
   "version": "3.7.0"
  }
 },
 "nbformat": 4,
 "nbformat_minor": 4
}
