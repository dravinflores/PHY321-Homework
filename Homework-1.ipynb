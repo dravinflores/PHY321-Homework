{
 "cells": [
  {
   "cell_type": "markdown",
   "metadata": {},
   "source": [
    "# PHY 321 - Homework 1\n",
    "Dravin Flores\n",
    "\n",
    "---"
   ]
  },
  {
   "cell_type": "markdown",
   "metadata": {},
   "source": [
    "### Problem 1\n",
    "\n",
    "a. Taylor Expansions of $\\cos{(\\omega t)}$ and $\\sin{(\\omega t)}$ at $t = 0$"
   ]
  },
  {
   "cell_type": "markdown",
   "metadata": {},
   "source": [
    "$\\quad$ (1) $\\quad \\cos{(\\omega t)} = 1 - \\frac{\\omega^2 t^2}{2} + \\frac{\\omega^4 t^4}{24} + O\\left(t^6\\right)$"
   ]
  },
  {
   "cell_type": "markdown",
   "metadata": {},
   "source": [
    "$\\quad$ (2) $\\quad \\sin{(\\omega t)} = \\omega t - \\frac{\\omega^3 t^3}{6} + \\frac{\\omega^5 t^5}{120} + O\\left(t^6\\right)$"
   ]
  },
  {
   "cell_type": "markdown",
   "metadata": {},
   "source": [
    "b. Taylor Expansion of $e^{i \\omega t}$ at $t = 0$"
   ]
  },
  {
   "cell_type": "markdown",
   "metadata": {},
   "source": [
    "$\\quad e^{i \\omega t} = 1 + i \\omega t - \\frac{\\omega^2 t^2}{2} - \\frac{i \\omega^3 t^3}{6} + \\frac{\\omega^4 t^4}{24} + O\\left(t^5\\right)$"
   ]
  },
  {
   "cell_type": "markdown",
   "metadata": {},
   "source": [
    "\n",
    "c. Show that the Taylor Expansion of $e^{i \\omega t}$ at $t = 0$ is equivalent to the sum of the Taylor Expansions of $\\cos{(\\omega t)}$ and $\\sin{(\\omega t)}$ at $t = 0$"
   ]
  },
  {
   "cell_type": "markdown",
   "metadata": {},
   "source": [
    "$\\quad$ (1) $\\quad e^{i \\omega t} = 1 + i \\omega t - \\frac{\\omega^2 t^2}{2} - \\frac{i \\omega^3 t^3}{6} + \\frac{\\omega^4 t^4}{24} + O\\left(t^5\\right)$"
   ]
  },
  {
   "cell_type": "markdown",
   "metadata": {},
   "source": [
    "$\\quad$ (2) $\\quad = \\left(1 - \\frac{\\omega^2 t^2}{2} + \\frac{\\omega^4 t^4}{24} + \\ldots\\right) + i\\left(\\omega t - \\frac{\\omega^3 t^3}{6} + \\frac{\\omega^5 t^5}{120} + \\ldots\\right)$"
   ]
  },
  {
   "cell_type": "markdown",
   "metadata": {},
   "source": [
    "$\\quad$ (3) $\\quad = \\cos{(\\omega t)} + i\\sin{(\\omega t)}$"
   ]
  },
  {
   "cell_type": "markdown",
   "metadata": {},
   "source": [
    "d. Show that $\\ln{(i \\pi)} = -1$"
   ]
  },
  {
   "cell_type": "markdown",
   "metadata": {},
   "source": [
    "$\\quad$ (1) $\\quad e^{i \\omega t} = \\cos{(\\omega t)} + i\\sin{(\\omega t)}$"
   ]
  },
  {
   "cell_type": "markdown",
   "metadata": {},
   "source": [
    "$\\quad$ (2) $\\quad e^{i \\omega \\pi} = \\cos{(\\omega \\pi) + i\\sin{(\\omega \\pi)}}$"
   ]
  },
  {
   "cell_type": "markdown",
   "metadata": {},
   "source": [
    "$\\quad$ (3) $\\quad = -1 + 0$"
   ]
  },
  {
   "cell_type": "markdown",
   "metadata": {},
   "source": [
    "$\\quad$ (4) $\\quad = -1$"
   ]
  },
  {
   "cell_type": "markdown",
   "metadata": {},
   "source": [
    "### Problem 2"
   ]
  },
  {
   "cell_type": "markdown",
   "metadata": {},
   "source": [
    "a. Find the angle between the two vectors $\\boldsymbol{a} = (1, 2, 4)$ and $\\boldsymbol{b} = (4, 2, 1)$ using the scalar product"
   ]
  },
  {
   "cell_type": "markdown",
   "metadata": {},
   "source": [
    "$\\quad$ (1) $\\quad \\boldsymbol{x} \\cdot \\boldsymbol{y} = \\|\\boldsymbol{x}\\| \\cdot \\|\\boldsymbol{y}\\| \\cdot \\cos{\\theta}$"
   ]
  },
  {
   "cell_type": "markdown",
   "metadata": {},
   "source": [
    "$\\quad$ (2) $\\quad \\cos{\\theta} = \\frac{\\boldsymbol{x} \\cdot \\boldsymbol{y}}{\\| \\boldsymbol{x} \\| \\cdot \\| \\boldsymbol{y} \\|}$"
   ]
  },
  {
   "cell_type": "markdown",
   "metadata": {},
   "source": [
    "$\\quad$ (3) $\\quad \\boldsymbol{a} \\cdot \\boldsymbol{b} = 4\\cdot1 + 2\\cdot2 + 4\\cdot1 = 12$"
   ]
  },
  {
   "cell_type": "markdown",
   "metadata": {},
   "source": [
    "$\\quad$ (4) $\\quad \\| \\boldsymbol{a} \\| = \\sqrt{21}, \\quad \\| \\boldsymbol{b} \\| = \\sqrt{21} \\quad \\Rightarrow \\quad \\| \\boldsymbol{x} \\| \\cdot \\| \\boldsymbol{y} \\| = 21$"
   ]
  },
  {
   "cell_type": "markdown",
   "metadata": {},
   "source": [
    "$\\quad$ (4) $\\quad \\cos{\\theta} = \\arccos{\\left(\\frac{12}{21}\\right)} \\approx 55.15^\\circ$"
   ]
  },
  {
   "cell_type": "markdown",
   "metadata": {},
   "source": [
    "b. Find the lengths and angles of the vectors $\\boldsymbol{a} = (1, 1, 1)$ and $\\boldsymbol{b} = (1, 1, 0)$"
   ]
  },
  {
   "cell_type": "markdown",
   "metadata": {},
   "source": [
    "$\\quad$ (1) $\\quad L_{a} = \\|\\boldsymbol{a}\\| = \\sqrt{3}$"
   ]
  },
  {
   "cell_type": "markdown",
   "metadata": {},
   "source": [
    "$\\quad$ (2) $\\quad L_{b} = \\|\\boldsymbol{b}\\| = \\sqrt{2}$"
   ]
  },
  {
   "cell_type": "markdown",
   "metadata": {},
   "source": [
    "$\\quad$ (3) $\\quad \\boldsymbol{a} \\cdot \\boldsymbol{b} = 1\\cdot1 + 1\\cdot1 + 1\\cdot0 = 2$"
   ]
  },
  {
   "cell_type": "markdown",
   "metadata": {},
   "source": [
    "$\\quad$ (4) $\\quad \\cos{\\theta} = \\frac{\\boldsymbol{a} \\cdot \\boldsymbol{b}}{\\|\\boldsymbol{a}\\| \\cdot \\|\\boldsymbol{b}\\|} = \\frac{2}{\\sqrt{3}\\sqrt{2}} = \\frac{2}{\\sqrt{6}}$"
   ]
  },
  {
   "cell_type": "markdown",
   "metadata": {},
   "source": [
    "$\\quad$ (5) $\\quad \\theta = \\arccos{\\left(\\frac{2}{\\sqrt{6}}\\right)} \\approx 35.26^\\circ$"
   ]
  },
  {
   "cell_type": "markdown",
   "metadata": {},
   "source": [
    "### Problem 3\n",
    "a. Show that $\\boldsymbol{a}\\left(\\boldsymbol{b}+\\boldsymbol{c}\\right)=\\boldsymbol{a}\\boldsymbol{b}+\\boldsymbol{a}\\boldsymbol{c}$"
   ]
  },
  {
   "cell_type": "markdown",
   "metadata": {},
   "source": [
    "$\\quad$ (1) $\\quad$ Let the vector $\\boldsymbol{v}$ be the sum of the two vectors $$\\boldsymbol{a} + \\boldsymbol{b} \\quad \\Rightarrow \\quad \\boldsymbol{a}\\left(\\boldsymbol{b}+\\boldsymbol{c}\\right) = \\boldsymbol{a} \\cdot \\boldsymbol{v}$$"
   ]
  },
  {
   "cell_type": "markdown",
   "metadata": {},
   "source": [
    "$\\quad$ (2) $\\quad$ This means that $$v_i = b_i + c_i \\quad \\text{for} \\quad i \\in \\mathbb{Z} \\quad \\Rightarrow \\quad v_i, b_i, c_i \\in \\mathbb{R}$$"
   ]
  },
  {
   "cell_type": "markdown",
   "metadata": {},
   "source": [
    "$\\quad$ (3) $\\quad$ We define the dot product as $$\\boldsymbol{a} \\cdot \\boldsymbol{b} = \\sum_{i = 1}^{n} a_i b_i \\\\ \\sum_{i = 1}^{n} a_i b_i \\in \\mathbb{R} \\quad \\Rightarrow \\quad \\boldsymbol{a} \\cdot \\boldsymbol{b} \\in \\mathbb{R}$$"
   ]
  },
  {
   "cell_type": "markdown",
   "metadata": {},
   "source": [
    "$\\quad$ (4) $\\quad$ Thus we can see that $$\\boldsymbol{a} \\cdot \\boldsymbol{v} = \\sum_{i=1}^{n}a_i v_i = \\sum_{i=1}^{n}a_i (b_i + c_i)$$"
   ]
  },
  {
   "cell_type": "markdown",
   "metadata": {},
   "source": [
    "$\\quad$ (5) $\\quad$ As $a_i, b_i, c_i, v_i \\in \\mathbb{R}$, we take the Axiom of Distributivity for real numbers (without proof), and state that $$\\boldsymbol{a} \\cdot \\boldsymbol{v} = \\sum_{i=1}^{n} a_i v_i = \\sum_{i=1}^{n} a_i \\cdot \\left(b_i + c_i\\right) = \\sum_{i=1}^{n} a_i b_i + a_i c_i$$"
   ]
  },
  {
   "cell_type": "markdown",
   "metadata": {},
   "source": [
    "$\\quad$ (6) $\\quad$ Clearly, we can see that $$\\sum_{i=1}^{n} a_i b_i + a_i c_i = \\sum_{i=1}^{n} a_i b_i + \\sum_{i=1}^{n}a_i c_i = \\boldsymbol{a} \\cdot \\boldsymbol{b} + \\boldsymbol{a} \\cdot \\boldsymbol{c}$$"
   ]
  },
  {
   "cell_type": "markdown",
   "metadata": {},
   "source": [
    "$\\quad$ (7) $\\quad$ Which means that $$\\boldsymbol{a} \\cdot \\boldsymbol{v} = \\boldsymbol{a} \\cdot \\boldsymbol{b} + \\boldsymbol{a} \\cdot \\boldsymbol{c} \\quad \\Rightarrow \\quad \\boldsymbol{a} \\cdot \\left(\\boldsymbol{b} + \\boldsymbol{c}\\right) = \\boldsymbol{a} \\cdot \\boldsymbol{b} + \\boldsymbol{a} \\cdot \\boldsymbol{c}$$"
   ]
  },
  {
   "cell_type": "markdown",
   "metadata": {},
   "source": [
    "b. Show that $\\frac{d}{dt}\\left(\\boldsymbol{a}\\boldsymbol{b}\\right)=\\boldsymbol{a}\\frac{d\\boldsymbol{b}}{dt}+\\boldsymbol{b}\\frac{d\\boldsymbol{a}}{dt}$"
   ]
  },
  {
   "cell_type": "markdown",
   "metadata": {},
   "source": [
    "$\\quad$ (1) $\\quad$ Firstly, $$\\boldsymbol{a}\\boldsymbol{b} = \\sum_{i=1}^{n}a_i b_i \\quad \\Rightarrow \\quad \\frac{d}{dt}\\left(\\boldsymbol{a}\\boldsymbol{b}\\right) = \\frac{d}{dt}\\left(\\sum_{i=1}^{n}a_i b_i\\right)$$"
   ]
  },
  {
   "cell_type": "markdown",
   "metadata": {},
   "source": [
    "$\\quad$ (2) $\\quad$ Suppose that $$\\boldsymbol{a} = \\left(f_1\\left(x\\right), f_2\\left(x\\right), \\ldots, f_i\\left(x\\right)\\right) \\\\ \\boldsymbol{b} = \\left(g_1\\left(x\\right), g_2\\left(x\\right), \\ldots, g_i\\left(x\\right)\\right)$$"
   ]
  },
  {
   "cell_type": "markdown",
   "metadata": {},
   "source": [
    "$\\quad$ (3) $\\quad$ This means that we have $$\\frac{d}{dt}\\left(\\boldsymbol{a}\\boldsymbol{b}\\right) = \\frac{d}{dt}\\left(\\sum_{i=1}^{n}a_i b_i\\right) = \\frac{d}{dt}\\left(\\sum_{i=1}^{n}f_i(x) g_i(x)\\right)$$"
   ]
  },
  {
   "cell_type": "markdown",
   "metadata": {},
   "source": [
    "$\\quad$ (4) $\\quad$ Seeing as $\\boldsymbol{a} \\cdot \\boldsymbol{b} \\in \\mathbb{R}$, we know that the product $f_i(x) \\cdot g_i(x) \\in \\mathbb{R}$"
   ]
  },
  {
   "cell_type": "markdown",
   "metadata": {},
   "source": [
    "$\\quad$ (5) $\\quad$ So far, we have \n",
    "$$\n",
    "\\frac{d}{dt}\\left(\\boldsymbol{a}\\boldsymbol{b}\\right) = \\frac{d}{dt}\\left(\\sum_{i=1}^{n}f_i(x) g_i(x)\\right) = \\frac{d}{dt}\\left(f_1(x) g_1(x) + f_2(x) g_2(x) + \\cdots + f_n(x) g_n(x)\\right)\n",
    "$$"
   ]
  },
  {
   "cell_type": "markdown",
   "metadata": {},
   "source": [
    "$\\quad$ (6) $\\quad$ We know the derivative operator is linear, which means we can use the property of additivity (again without proof) to 'distribute' the operator:\n",
    "$$\n",
    "\\frac{d}{dt}\\left(f_1(x) g_1(x) + f_2(x) g_2(x) + \\cdots + f_n(x) g_n(x)\\right) = \\frac{d}{dt}\\left(f_1(x) g_1(x)\\right) + \\frac{d}{dt}\\left(f_2(x) g_2(x)\\right) + \\cdots + \\frac{d}{dt}\\left(f_n(x) g_n(x)\\right) = \\sum_{i=1}^{n} \\frac{d}{dt}\\left(f_i(x) g_i(x)\\right)\n",
    "$$"
   ]
  },
  {
   "cell_type": "markdown",
   "metadata": {},
   "source": [
    "$\\quad$ (7) $\\quad$ Looking at a single term in this sum at the $i^{th}$ index gives us $$\\frac{d}{dt}\\left(f_i(x) g_i(x)\\right)$$"
   ]
  },
  {
   "cell_type": "markdown",
   "metadata": {},
   "source": [
    "$ \\quad\\quad\\quad $ which is a likely candidate for the product rule. Thus, we can say\n",
    "$$\n",
    "\\frac{d}{dt}\\left(f_i(x) g_i(x)\\right) = \\frac{d}{dt}f_i(x) \\cdot g_i(x) + f_i(x) \\cdot \\frac{d}{dt}g_i(x)\n",
    "$$"
   ]
  },
  {
   "cell_type": "markdown",
   "metadata": {},
   "source": [
    "$\\quad$ (8) $\\quad$ Which means that we have\n",
    "$$\n",
    "\\sum_{i=1}^{n} \\frac{d}{dt}\\left(f_i(x) g_i(x)\\right) = \\sum_{i=1}^{n} \\left[ \\frac{d}{dt}f_i(x) \\cdot g_i(x) + f_i(x) \\cdot \\frac{d}{dt}g_i(x) \\right] = \\sum_{i=1}^{n} f'_i(x) g_i(x) + f_i(x) g'_i(x)\n",
    "$$"
   ]
  },
  {
   "cell_type": "markdown",
   "metadata": {},
   "source": [
    "$\\quad$ (9) $\\quad$ Clearly, this sum can be split, such that\n",
    "$$\n",
    "\\sum_{i=1}^{n} f'_i(x) g_i(x) + f_i(x) g'_i(x) = \\sum_{i=1}^{n} f'_i(x) g_i(x) + \\sum_{i=1}^{n} f_i(x) g'_i(x)\n",
    "$$"
   ]
  },
  {
   "cell_type": "markdown",
   "metadata": {},
   "source": [
    "$\\quad$ (10) $\\quad$ Which appears to fit our definition of the dot product\n",
    "$$\n",
    "\\sum_{i=1}^{n} f'_i(x) g_i(x) + \\sum_{i=1}^{n} f_i(x) g'_i(x) = \\boldsymbol{f'(x)} \\cdot \\boldsymbol{g(x)} + \\boldsymbol{f(x)} \\cdot \\boldsymbol{g'(x)}\n",
    "$$"
   ]
  },
  {
   "cell_type": "markdown",
   "metadata": {},
   "source": [
    "$ \\quad\\quad\\quad $ where $\\boldsymbol{f}, \\boldsymbol{f'}, \\boldsymbol{g}, \\boldsymbol{g'}$ are vectors"
   ]
  },
  {
   "cell_type": "markdown",
   "metadata": {},
   "source": [
    "$\\quad$ (11) $\\quad$ We will take the definition of a derivative for vectors as an axiom where $\\boldsymbol{a}' = \\left(r'_1, r'_2, \\ldots, r'_n\\right)$"
   ]
  },
  {
   "cell_type": "markdown",
   "metadata": {},
   "source": [
    "$\\quad$ (12) $\\quad$ We can now see that, according to our definitions in (2) and according to our axiom of derivation in (11), we have\n",
    "\n",
    "$$\n",
    "\\boldsymbol{a} = \\boldsymbol{f} \\\\\n",
    "\\boldsymbol{b} = \\boldsymbol{g} \\\\\n",
    "\\boldsymbol{a}' = \\boldsymbol{f}' \\\\\n",
    "\\boldsymbol{b}' = \\boldsymbol{g}'\n",
    "$$"
   ]
  },
  {
   "cell_type": "markdown",
   "metadata": {},
   "source": [
    "$\\quad$ (13) $\\quad$ Which leads us to\n",
    "$$\n",
    "\\frac{d}{dt}\\left(\\boldsymbol{a} \\cdot \\boldsymbol{b}\\right) = \\boldsymbol{a}' \\cdot \\boldsymbol{b} + \\boldsymbol{a} \\cdot \\boldsymbol{b}'\n",
    "$$"
   ]
  },
  {
   "cell_type": "markdown",
   "metadata": {},
   "source": [
    "$\\quad$ (14) $\\quad$ Where\n",
    "$$\n",
    "\\frac{d}{dt}\\left(\\boldsymbol{a} \\cdot \\boldsymbol{b}\\right) = \\frac{d\\boldsymbol{a}}{dt} \\boldsymbol{b} + \\frac{d\\boldsymbol{b}}{dt} \\boldsymbol{a}\n",
    "$$"
   ]
  },
  {
   "cell_type": "markdown",
   "metadata": {},
   "source": [
    "### Problem 4\n",
    "a. Show that the cross products are distribuitive $\\boldsymbol{a}\\times(\\boldsymbol{b}+\\boldsymbol{c})=\\boldsymbol{a}\\times\\boldsymbol{b}+\\boldsymbol{a}\\times\\boldsymbol{c}$"
   ]
  },
  {
   "cell_type": "markdown",
   "metadata": {},
   "source": [
    "$\\quad$ (1) $\\quad$ Let vectors $\\boldsymbol{a} = \\left(a_1, a_2, a_3\\right)$, $\\boldsymbol{b} = \\left(b_1, b_2, b_3\\right)$, and $\\boldsymbol{c} = \\left(c_1, c_2, c_3\\right)$ be vectors in $\\mathbb{R}^3$"
   ]
  },
  {
   "cell_type": "markdown",
   "metadata": {},
   "source": [
    "$\\quad$ (2) $\\quad$ Let the vector $\\boldsymbol{v}$ be the sum of the vectors $\\boldsymbol{b} + \\boldsymbol{c}$"
   ]
  },
  {
   "cell_type": "markdown",
   "metadata": {},
   "source": [
    "$\\quad$ (3) $\\quad$ This means that we have\n",
    "$$\n",
    "\\boldsymbol{a} \\times \\left(\\boldsymbol{b} + \\boldsymbol{c}\\right) = \\boldsymbol{a} \\times \\boldsymbol{v} = \\left(a_2 v_3 - a_3 v_2, a_3 v_1 - a_1 v_3, a_1 v_2 - a_2 v_1\\right)\n",
    "$$"
   ]
  },
  {
   "cell_type": "markdown",
   "metadata": {},
   "source": [
    "$\\quad$ (4) $\\quad$ Which means we really have\n",
    "$$\n",
    "\\boldsymbol{a} \\times \\boldsymbol{v} = \\left(a_2 v_3 - a_3 v_2, a_3 v_1 - a_1 v_3, a_1 v_2 - a_2 v_1\\right) = \\left(a_2 (b_3 + c_3) - a_3 (b_2 + c_2), a_3 (b_1 + c_1) - a_1 (b_3 + c_3), a_1 (b_2 + c_2) - a_2 (b_1 + c_1)\\right)\n",
    "$$"
   ]
  },
  {
   "cell_type": "markdown",
   "metadata": {},
   "source": [
    "$\\quad$ (5) $\\quad$ Which, using the axiom is distributivity for real numbers, means we have\n",
    "$$\n",
    "\\left((a_2 b_3 + a_2 c_3) - (a_3 b_2 + a_3 c_2), (a_3 b_1 + a_3 c_1) - (a_1 b_3 + a_1 c_3), (a_1 b_2 + a_1 c_2) - (a_2 b_1 + a_2 c_1)\\right)\n",
    "$$"
   ]
  },
  {
   "cell_type": "markdown",
   "metadata": {},
   "source": [
    "$\\quad$ (6) $\\quad$ Which leads us to using the commutative property of addition for real numbers to say that\n",
    "$$\n",
    "\\left((a_2 b_3 + a_2 c_3) - (a_3 b_2 + a_3 c_2), (a_3 b_1 + a_3 c_1) - (a_1 b_3 + a_1 c_3), (a_1 b_2 + a_1 c_2) - (a_2 b_1 + a_2 c_1)\\right) \n",
    "= \\left(a_2 b_3 + a_2 c_3 - a_3 b_2 - a_3 c_2, a_3 b_1 + a_3 c_1 - a_1 b_3  a_1 c_3, a_1 b_2 + a_1 c_2 - a_2 b_1 - a_2 c_1\\right) \n",
    "= \\left((a_2 b_3 - a_3 b_2) + (a_2 c_3 - a_3 c_2), (a_3 b_1 - a_1 b_3) + (a_3 c_1 - a_1 c_3), (a_1 b_2 - a_2 b_1) + (a_1 c_2 - a_2 c_1)\\right)\n",
    "$$"
   ]
  },
  {
   "cell_type": "markdown",
   "metadata": {},
   "source": [
    "$\\quad$ (7) $\\quad$ Where we can split these vectors up into two to produce\n",
    "$$\n",
    "\\left(a_2 b_3 - a_3 b_2, a_3 b_1 - a_1 b_3, a_1 b_2 - a_2 b_1\\right) + \\left(a_2 c_3 - a_3 c_2, a_3 c_1 - a_1 c_3, a_1 c_2 - a_2 c_1\\right)\n",
    "$$"
   ]
  },
  {
   "cell_type": "markdown",
   "metadata": {},
   "source": [
    "$\\quad$ (8) $\\quad$ Which we can identify as \n",
    "$$\n",
    "\\left(\\boldsymbol{a} \\times \\boldsymbol{b}\\right) + \\left(\\boldsymbol{a} \\times \\boldsymbol{c}\\right)\n",
    "$$"
   ]
  },
  {
   "cell_type": "markdown",
   "metadata": {},
   "source": [
    "$\\quad$ (9) $\\quad$ Thus, it follows that\n",
    "$$\n",
    "\\boldsymbol{a}\\times(\\boldsymbol{b}+\\boldsymbol{c})=\\boldsymbol{a}\\times\\boldsymbol{b}+\\boldsymbol{a}\\times\\boldsymbol{c}\n",
    "$$"
   ]
  },
  {
   "cell_type": "markdown",
   "metadata": {},
   "source": [
    "$\\quad$ ( * ) $\\quad$ It should be noted that this result has only been shown to work for $\\mathbb{R}^3$. This result can be extended to $\\mathbb{R}^n$ as the cross-product can be defined element-wise in a similar fashion, however this result has not been shown to be true for any vector."
   ]
  },
  {
   "cell_type": "markdown",
   "metadata": {},
   "source": [
    "b. Show that $\\frac{d}{dt}(\\boldsymbol{a}\\times\\boldsymbol{b})=\\boldsymbol{a}\\times\\frac{d\\boldsymbol{b}}{dt}+\\boldsymbol{b}\\times\\frac{d\\boldsymbol{a}}{dt}$."
   ]
  },
  {
   "cell_type": "markdown",
   "metadata": {},
   "source": [
    "$\\quad$ (1) $\\quad$ Let $\\boldsymbol{a}$ and $\\boldsymbol{b}$ be vectors in $\\mathbb{R}^3$ such that\n",
    "$$\n",
    "\\boldsymbol{a} = \\left(a_1, a_2, a_3\\right) \\\\\n",
    "\\boldsymbol{b} = \\left(b_1, b_2, b_3\\right)\n",
    "$$"
   ]
  },
  {
   "cell_type": "markdown",
   "metadata": {},
   "source": [
    "$\\quad$ (2) $\\quad$ Let the vector $\\boldsymbol{v}$ be the cross product $\\boldsymbol{a} \\times \\boldsymbol{b}$ such that\n",
    "$$\n",
    "\\boldsymbol{v} = \\left(a_2 b_3 - a_3 b_2, a_3 b_1 - a_1 b_3, a_1 b_2 - a_2 b_1\\right)\n",
    "$$"
   ]
  },
  {
   "cell_type": "markdown",
   "metadata": {},
   "source": [
    "$\\quad$ (3) $\\quad$ We will assume that derivatives for vectors are well defined such that\n",
    "$$\n",
    "\\boldsymbol{r}' = (f_1'(x), f_2'(x), \\ldots, f_n'(x)) \n",
    "$$"
   ]
  },
  {
   "cell_type": "markdown",
   "metadata": {},
   "source": [
    "$\\quad$ (4) $\\quad$ This means that for our vector $\\boldsymbol{v}$, we have\n",
    "$$\n",
    "\\frac{d}{dt}\\left[\\boldsymbol{v}\\right] = \\left(\\frac{d}{dt}\\left[a_2 b_3 - a_3 b_2\\right], \\frac{d}{dt}\\left[a_3 b_1 - a_1 b_3\\right], \\frac{d}{dt}\\left[a_1 b_2 - a_2 b_1\\right] \\right)\n",
    "$$"
   ]
  },
  {
   "cell_type": "markdown",
   "metadata": {},
   "source": [
    "$\\quad$ (5) $\\quad$ Once again, we will use the 'distributivity' of the derivative operator (which comes from its linearity) to show that\n",
    "$$\n",
    "\\frac{d\\boldsymbol{v}}{dt} = \\left(\\frac{d}{dt}\\left[a_2 b_3\\right] + \\frac{d}{dt}\\left[a_3 b_2\\right], \\frac{d}{dt}\\left[a_3 b_1\\right] + \\frac{d}{dt}\\left[a_1 b_3\\right], \\frac{d}{dt}\\left[a_1 b_2\\right] + \\frac{d}{dt}\\left[a_2 b_1\\right]\\right)\n",
    "$$"
   ]
  },
  {
   "cell_type": "markdown",
   "metadata": {},
   "source": [
    "$\\quad$ (6) $\\quad$ Which we can evaluate to be\n",
    "$$\n",
    "\\frac{d\\boldsymbol{v}}{dt} = \\left((a'_2 b_3 + a_2 b'_3) + (a'_3 b_2 + a_3 b'_2), (a'_3 b_1 + a_3 b'_1) + (a'_1 b_3 + a_1 b'_3), (a'_1 b_2 + a_1 b'_2) + (a'_2 b_1 + a_2 b'_1)\\right)\n",
    "$$"
   ]
  },
  {
   "cell_type": "markdown",
   "metadata": {},
   "source": [
    "$\\quad$ (7) $\\quad$ Which we can then use the commutative property of addition of real numbers to show that\n",
    "$$\n",
    "\\frac{d\\boldsymbol{v}}{dt} = \\left((a'_2 b_3 + a'_3 b_2) + (a_2 b'_3 + a_3 b'_2), (a'_3 b_1 + a'_1 b_3) + (a_3 b'_1 + a_1 b'_3), (a'_1 b_2 + a'_2 b_1) + (a_1 b'_2 + a_2 b'_1)\\right)\n",
    "$$"
   ]
  },
  {
   "cell_type": "markdown",
   "metadata": {},
   "source": [
    "$\\quad$ (8) $\\quad$ Which we can clearly see as\n",
    "$$\n",
    "\\frac{d\\boldsymbol{v}}{dt} = \\left((a'_2 b_3 + a'_3 b_2), (a'_3 b_1 + a'_1 b_3), (a'_1 b_2 + a'_2 b_1)\\right) + \\left((a_2 b'_3 + a_3 b'_2), (a_3 b'_1 + a_1 b'_3), (a_1 b'_2 + a_2 b'_1)\\right)\n",
    "$$"
   ]
  },
  {
   "cell_type": "markdown",
   "metadata": {},
   "source": [
    "$\\quad$ (9) $\\quad$ Which can be characteried as\n",
    "$$\n",
    "\\frac{d\\boldsymbol{v}}{dt} = b \\times \\frac{d\\boldsymbol{a}}{dt} + a \\times \\frac{d\\boldsymbol{b}}{dt}\n",
    "$$"
   ]
  },
  {
   "cell_type": "markdown",
   "metadata": {},
   "source": [
    "$\\quad$ ( * ) $\\quad$ It should be noted that this result has only been shown to work for $\\mathbb{R}^3$. This result can be extended to $\\mathbb{R}^n$ as the cross-product can be defined element-wise in a similar fashion, however this result has not been shown to be true for any vector."
   ]
  },
  {
   "cell_type": "markdown",
   "metadata": {},
   "source": [
    "### Problem 5\n",
    "a. Show that the area of the triangle is given by $a = \\frac{1}{2} |\\boldsymbol{a} \\times \\boldsymbol{b}|$"
   ]
  },
  {
   "cell_type": "markdown",
   "metadata": {},
   "source": [
    "$\\quad$ (1) $\\quad$ The area formula for a given triangle is typically $a = \\frac{1}{2} bh$ where b is the base and h is the altitude from the vertex opposing the hypotenuse to the hypotenuse."
   ]
  },
  {
   "cell_type": "markdown",
   "metadata": {},
   "source": [
    "$\\quad$ (2) $\\quad$ We will assume that this formula is perfectly defined. Given that this triangle is not an equilateral triangle, we will define the hypotenuse to be the length from the vertex C to the vertex A, which is the magnitude of the vector $\\boldsymbol{b}$ which is $\\|\\boldsymbol{b}\\|$"
   ]
  },
  {
   "cell_type": "markdown",
   "metadata": {},
   "source": [
    "$\\quad$ (3) $\\quad$ We will then define the altitude as the projection of length from the vertex B to the vertex C, which is the magnitude of the vector $\\boldsymbol{a}$ multiplied by the sin of the angle $\\gamma$, that is it is equal to $\\|\\boldsymbol{a}\\|\\sin{(\\gamma)}$"
   ]
  },
  {
   "cell_type": "markdown",
   "metadata": {},
   "source": [
    "$\\quad$ (4) $\\quad$ Thus, to obtain the area, we simply must calculate\n",
    "$$\n",
    "\\text{area} = \\frac{1}{2} \\|\\boldsymbol{a}\\|\\|\\boldsymbol{b}\\|\\sin{(\\gamma)}\n",
    "$$"
   ]
  },
  {
   "cell_type": "markdown",
   "metadata": {},
   "source": [
    "$\\quad$ (5) $\\quad$ This is equivalent to \n",
    "$$\n",
    "\\text{area} = \\frac{1}{2} \\|\\boldsymbol{a} \\times \\boldsymbol{b}\\|\n",
    "$$"
   ]
  },
  {
   "cell_type": "markdown",
   "metadata": {},
   "source": [
    "$\\quad$ ( * ) $\\quad$ This result only works as we have assumed these vectors to be defined in a Euclidean Space, where projections are well defined. This is not a general case proof, nor is it a complete proof."
   ]
  },
  {
   "cell_type": "markdown",
   "metadata": {},
   "source": [
    "### Problem 6\n",
    "a. Find the transpose of the matrix $\\boldsymbol{R}$. We label this as $\\boldsymbol{R}^T$."
   ]
  },
  {
   "cell_type": "markdown",
   "metadata": {},
   "source": [
    "$\\quad$ (1) $\\quad$ To find the transpose of a matrix $\\boldsymbol{R}$ is to use the formula $\\boldsymbol{R}_{ij} = \\boldsymbol{R^T}_{ji}$"
   ]
  },
  {
   "cell_type": "markdown",
   "metadata": {},
   "source": [
    "$\\quad$ (2) $\\quad$ This means that our transposed matrix $\\boldsymbol{R^T}$ is\n",
    "$$\n",
    "\\boldsymbol{R^T} = \n",
    "\\begin{bmatrix}\n",
    "1 & 0 & 0 \\\\\n",
    "0 & \\cos{\\phi} & \\sin{\\phi} \\\\\n",
    "0 & -\\sin{\\phi} & \\cos{\\phi}\n",
    "\\end{bmatrix}\n",
    "$$"
   ]
  },
  {
   "cell_type": "markdown",
   "metadata": {},
   "source": [
    "b. This matrix is a so-called unitary/orthogonal matrix.  Show that $\\boldsymbol{R}^T\\boldsymbol{R}= \\boldsymbol{I}$ where $\\boldsymbol{I}$ is the so-called identity matrix with ones only along the diagonal. How would you interpret this result? For example, are scalar products changed under this transformations?"
   ]
  },
  {
   "cell_type": "markdown",
   "metadata": {},
   "source": [
    "$\\quad$ (1) $\\quad$ Let $\\boldsymbol{I}$ be the identity matrix such that\n",
    "$$\n",
    "\\boldsymbol{I} = \n",
    "    \\begin{bmatrix}\n",
    "    1 & 0 & 0 \\\\\n",
    "    0 & 1 & 0 \\\\\n",
    "    0 & 0 & 1\n",
    "    \\end{bmatrix}\n",
    "$$"
   ]
  },
  {
   "cell_type": "markdown",
   "metadata": {},
   "source": [
    "$\\quad$ (2) $\\quad$ We have that $\\boldsymbol{R}$ is \n",
    "$$\n",
    "\\boldsymbol{R} = \n",
    "\\begin{bmatrix} \n",
    "        \\cos{\\phi} & \\sin{\\phi} & 0 \\\\ \n",
    "        -\\sin{\\phi} & \\cos{\\phi} & 0 \\\\ \n",
    "        0 & 0 & 1\n",
    "    \\end{bmatrix}\n",
    "$$"
   ]
  },
  {
   "cell_type": "markdown",
   "metadata": {},
   "source": [
    "$\\quad$ (3) $\\quad$ And the matrix product $\\boldsymbol{R}^T\\boldsymbol{R}$ is\n",
    "$$\n",
    "\\boldsymbol{R}^T\\boldsymbol{R} =\n",
    "\\begin{bmatrix}\n",
    "    1 & 0 & 0 \\\\\n",
    "    0 & 1 & 0 \\\\\n",
    "    0 & 0 & 1\n",
    "\\end{bmatrix}\n",
    "$$"
   ]
  },
  {
   "cell_type": "markdown",
   "metadata": {},
   "source": [
    "$\\quad$ (4) $\\quad$ As for what this means, this means that a matrix and its transpose matrix are inverses. Much in the same way that $f(g(x)) = x,\\forall x \\in \\mathbb{R}$ where two inverse functions, when in composition, produce the identity function. In this case, it can be thought of that $\\boldsymbol{I}$ is the matrix which encodes the three basis vectors $\\boldsymbol{\\hat{\\imath}}$, $\\boldsymbol{\\hat{\\jmath}}$, and $\\boldsymbol{\\hat{k}}$."
   ]
  },
  {
   "cell_type": "markdown",
   "metadata": {},
   "source": [
    "c. Find the matrix for rotating a coordinate system by $90$ degrees about the $x$-axis."
   ]
  },
  {
   "cell_type": "markdown",
   "metadata": {},
   "source": [
    "$\\quad$ (1) $\\quad$ Rotating 90 degrees about the x-axis would suggest that for any vector in the original coordinate system, that vector will have the same x component that it did before. However, it will have different y and z components. A 90 degree rotation about the x-axis would give us\n",
    "$$\n",
    "\\boldsymbol{R} = \n",
    "\\begin{bmatrix}\n",
    "    1 & 0 & 0 \\\\\n",
    "    0 & -1 & 0 \\\\\n",
    "    0 & 0 & -1\n",
    "\\end{bmatrix}\n",
    "$$"
   ]
  },
  {
   "cell_type": "markdown",
   "metadata": {},
   "source": [
    "### Problem 7"
   ]
  },
  {
   "cell_type": "code",
   "execution_count": 2,
   "metadata": {},
   "outputs": [],
   "source": [
    "# Just in case we need to install any pip packages\n",
    "# import sys\n",
    "# !{sys.executable} -m pip install numpy matplotlib\n",
    "import numpy as np\n",
    "import matplotlib.pyplot as plt"
   ]
  },
  {
   "cell_type": "code",
   "execution_count": 2,
   "metadata": {},
   "outputs": [],
   "source": [
    "V1 = np.array([1, 2, 3])\n",
    "V2 = np.array([4, 5, 6])"
   ]
  },
  {
   "cell_type": "markdown",
   "metadata": {},
   "source": [
    "a. Calculate V1 - V2"
   ]
  },
  {
   "cell_type": "code",
   "execution_count": 3,
   "metadata": {},
   "outputs": [
    {
     "data": {
      "text/plain": [
       "array([-3, -3, -3])"
      ]
     },
     "execution_count": 3,
     "metadata": {},
     "output_type": "execute_result"
    }
   ],
   "source": [
    "V1 - V2"
   ]
  },
  {
   "cell_type": "markdown",
   "metadata": {},
   "source": [
    "b. Calculate V2 - V1"
   ]
  },
  {
   "cell_type": "code",
   "execution_count": 4,
   "metadata": {},
   "outputs": [
    {
     "data": {
      "text/plain": [
       "array([3, 3, 3])"
      ]
     },
     "execution_count": 4,
     "metadata": {},
     "output_type": "execute_result"
    }
   ],
   "source": [
    "V2 - V1"
   ]
  },
  {
   "cell_type": "markdown",
   "metadata": {},
   "source": [
    "c. Calculate V1 $\\cdot$ V2"
   ]
  },
  {
   "cell_type": "code",
   "execution_count": 5,
   "metadata": {},
   "outputs": [
    {
     "data": {
      "text/plain": [
       "32"
      ]
     },
     "execution_count": 5,
     "metadata": {},
     "output_type": "execute_result"
    }
   ],
   "source": [
    "V1.dot(V2)"
   ]
  },
  {
   "cell_type": "markdown",
   "metadata": {},
   "source": [
    "d. Calculate V1 $\\times$ V2"
   ]
  },
  {
   "cell_type": "code",
   "execution_count": 6,
   "metadata": {},
   "outputs": [
    {
     "data": {
      "text/plain": [
       "array([-3,  6, -3])"
      ]
     },
     "execution_count": 6,
     "metadata": {},
     "output_type": "execute_result"
    }
   ],
   "source": [
    "np.cross(V1, V2)"
   ]
  },
  {
   "cell_type": "markdown",
   "metadata": {},
   "source": [
    "e. Let us go back to exercise 6. Define a vector $\\boldsymbol{a}=(1,0,0)$ and set the angle $\\phi$ in the rotation matrix (rotation in the $xy$ plane) to $45$ degrees. Set up the matrix $\\boldsymbol{R}$ and find the vector $\\boldsymbol{b}=\\boldsymbol{R}\\boldsymbol{a}$.\n"
   ]
  },
  {
   "cell_type": "code",
   "execution_count": 6,
   "metadata": {},
   "outputs": [
    {
     "name": "stdout",
     "output_type": "stream",
     "text": [
      "[ 0.70710678 -0.70710678  0.        ]\n"
     ]
    }
   ],
   "source": [
    "# Create a vector for a = (1, 0, 0)\n",
    "a = np.array([1, 0, 0], dtype=float)\n",
    "\n",
    "# Create a 3x3 matrix which describes our rotation. We're using np.sqrt() as it's faster.\n",
    "R = np.array([\n",
    "    [np.sqrt(2)/2, (np.sqrt(2)/2), 0],\n",
    "    [-(np.sqrt(2)/2), (np.sqrt(2)/2), 0],\n",
    "    [0, 0, 1]\n",
    "], dtype=float)\n",
    "\n",
    "# The vector b is the matrix product of R and the vector a transposed.\n",
    "b = R @ a.T\n",
    "print(b)"
   ]
  },
  {
   "cell_type": "markdown",
   "metadata": {},
   "source": [
    "g. Plot the position as a function of time."
   ]
  },
  {
   "cell_type": "code",
   "execution_count": 7,
   "metadata": {},
   "outputs": [
    {
     "data": {
      "image/png": "[encoded data removed]",
      "text/plain": [
       "<Figure size 432x288 with 1 Axes>"
      ]
     },
     "metadata": {
      "needs_background": "light"
     },
     "output_type": "display_data"
    }
   ],
   "source": [
    "x = np.array([10.0, 20.0, 30.0, 40.0, 50.0, 60.0, 70.0, 80.0, 90.0, 100.0])\n",
    "t = np.array([1.85, 2.87, 3.78, 4.65, 5.50, 6.32, 7.14, 7.96, 8.79, 9.69])\n",
    "plt.plot(t, x, color='green')\n",
    "plt.xlabel(\"Time t(s)\")\n",
    "plt.ylabel(\"Position x(s)\")\n",
    "plt.title(\"Usain Bolt's World Record Run\")\n",
    "plt.show()"
   ]
  },
  {
   "cell_type": "markdown",
   "metadata": {},
   "source": [
    "h. Compute the mean velocity for every interval i, the total velocity (from i=0 to i) for each interval, and plot these two quantities as a function of time. Comment your results."
   ]
  },
  {
   "cell_type": "code",
   "execution_count": 8,
   "metadata": {},
   "outputs": [
    {
     "data": {
      "text/plain": [
       "Text(0.5, 1.0, 'Velocities vs Time')"
      ]
     },
     "execution_count": 8,
     "metadata": {},
     "output_type": "execute_result"
    },
    {
     "data": {
      "image/png": "[encoded data removed]",
      "text/plain": [
       "<Figure size 432x288 with 1 Axes>"
      ]
     },
     "metadata": {
      "needs_background": "light"
     },
     "output_type": "display_data"
    }
   ],
   "source": [
    "# Velocity can be calculated using (x2 - x1)/t\n",
    "v = np.zeros(10, dtype=float)\n",
    "v_avg = np.zeros(10, dtype=float)\n",
    "v_mean = 0.00\n",
    "\n",
    "# Populate the velocity array\n",
    "for i in range(9):\n",
    "    v[i] = (x[i+1] - x[i]) * (1/t[i])\n",
    "    \n",
    "for i in range(9):\n",
    "    v_mean += v[i] * (1/9)\n",
    "    v_avg = v[i] * (1/9)\n",
    "\n",
    "plt.plot(t, v, v_avg, color='blue')\n",
    "plt.xlabel(\"Time t(s)\")\n",
    "plt.ylabel(\"Velocity (m/s)\")\n",
    "plt.title(\"Velocities vs Time\")"
   ]
  },
  {
   "cell_type": "markdown",
   "metadata": {},
   "source": [
    "i. Finally, compute and plot the mean acceleration for each interval and the total acceleration. Again, comment your results. Can you see whether he slowed down during the last meters?"
   ]
  },
  {
   "cell_type": "code",
   "execution_count": 10,
   "metadata": {},
   "outputs": [
    {
     "name": "stdout",
     "output_type": "stream",
     "text": [
      "a[i] = [-1.03842424 -0.29227105 -0.13094312 -0.07147437 -0.04289152 -0.02875289\n",
      " -0.02020712 -0.01490264 -0.12942621  0.        ]\n",
      "a_avg = -0.014380690529121692\n"
     ]
    }
   ],
   "source": [
    "# Acceleration can be calculated using (v2 - v1)/t\n",
    "a = np.zeros(10, dtype=float)\n",
    "a_avg = np.zeros(10, dtype=float)\n",
    "a_mean = 0.00\n",
    "\n",
    "# Populate the velocity array\n",
    "for i in range(9):\n",
    "    a[i] = (v[i+1] - v[i]) * (1/t[i])\n",
    "    \n",
    "for i in range(9):\n",
    "    a_mean += a[i] * (1/9)\n",
    "    a_avg = a[i] * (1/9)\n",
    "    \n",
    "print(f\"a[i] = {a}\")\n",
    "print(f\"a_avg = {a_avg}\")"
   ]
  },
  {
   "cell_type": "code",
   "execution_count": null,
   "metadata": {},
   "outputs": [],
   "source": []
  }
 ],
 "metadata": {
  "kernelspec": {
   "display_name": "Python 3",
   "language": "python",
   "name": "python3"
  },
  "language_info": {
   "codemirror_mode": {
    "name": "ipython",
    "version": 3
   },
   "file_extension": ".py",
   "mimetype": "text/x-python",
   "name": "python",
   "nbconvert_exporter": "python",
   "pygments_lexer": "ipython3",
   "version": "3.7.6"
  }
 },
 "nbformat": 4,
 "nbformat_minor": 4
}
