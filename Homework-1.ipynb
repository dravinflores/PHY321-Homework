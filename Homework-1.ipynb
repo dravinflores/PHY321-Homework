{
 "cells": [
  {
   "cell_type": "markdown",
   "metadata": {},
   "source": [
    "# PHY 321 - Homework 1\n",
    "Dravin Flores\n",
    "\n",
    "---"
   ]
  },
  {
   "cell_type": "markdown",
   "metadata": {},
   "source": [
    "### Problem 1\n",
    "\n",
    "a. Taylor Expansions of $\\cos{(\\omega t)}$ and $\\sin{(\\omega t)}$ at $t = 0$"
   ]
  },
  {
   "cell_type": "markdown",
   "metadata": {},
   "source": [
    "$\\quad$ (1) $\\quad \\cos{(\\omega t)} = 1 - \\frac{\\omega^2 t^2}{2} + \\frac{\\omega^4 t^4}{24} + O(t^6)$"
   ]
  },
  {
   "cell_type": "markdown",
   "metadata": {},
   "source": [
    "$\\quad$ (2) $\\quad \\sin{(\\omega t)} = \\omega t - \\frac{\\omega^3 t^3}{6} + \\frac{\\omega^5 t^5}{120} + O(t^6)$"
   ]
  },
  {
   "cell_type": "markdown",
   "metadata": {},
   "source": [
    "b. Taylor Expansion of $e^{i \\omega t}$ at $t = 0$"
   ]
  },
  {
   "cell_type": "markdown",
   "metadata": {},
   "source": [
    "$\\quad e^{i \\omega t} = 1 + i \\omega t - \\frac{\\omega^2 t^2}{2} - \\frac{i \\omega^3 t^3}{6} + \\frac{\\omega^4 t^4}{24} + O(t^5)$"
   ]
  },
  {
   "cell_type": "markdown",
   "metadata": {},
   "source": [
    "\n",
    "c. Show that the Taylor Expansion of $e^{i \\omega t}$ at $t = 0$ is equivalent to the sum of the Taylor Expansions of $\\cos{(\\omega t)}$ and $\\sin{(\\omega t)}$ at $t = 0$"
   ]
  },
  {
   "cell_type": "markdown",
   "metadata": {},
   "source": [
    "$\\quad$ (1) $\\quad e^{i \\omega t} = 1 + i \\omega t - \\frac{\\omega^2 t^2}{2} - \\frac{i \\omega^3 t^3}{6} + \\frac{\\omega^4 t^4}{24} + O(t^5)$"
   ]
  },
  {
   "cell_type": "markdown",
   "metadata": {},
   "source": [
    "$\\quad$ (2) $\\quad = (1 - \\frac{\\omega^2 t^2}{2} + \\frac{\\omega^4 t^4}{24} + \\ldots) + i(\\omega t - \\frac{\\omega^3 t^3}{6} + \\frac{\\omega^5 t^5}{120} + \\ldots)$"
   ]
  },
  {
   "cell_type": "markdown",
   "metadata": {},
   "source": [
    "$\\quad$ (3) $\\quad = \\cos{(\\omega t)} + i\\sin{(\\omega t)}$"
   ]
  },
  {
   "cell_type": "markdown",
   "metadata": {},
   "source": [
    "d. Show that $\\ln{(i \\pi)} = -1$"
   ]
  },
  {
   "cell_type": "markdown",
   "metadata": {},
   "source": [
    "$\\quad$ (1) $\\quad e^{i \\omega t} = \\cos{(\\omega t)} + i\\sin{(\\omega t)}$"
   ]
  },
  {
   "cell_type": "markdown",
   "metadata": {},
   "source": [
    "$\\quad$ (2) $\\quad e^{i \\omega \\pi} = \\cos{(\\omega \\pi) + i\\sin{(\\omega \\pi)}}$"
   ]
  },
  {
   "cell_type": "markdown",
   "metadata": {},
   "source": [
    "$\\quad$ (3) $\\quad = -1 + 0$"
   ]
  },
  {
   "cell_type": "markdown",
   "metadata": {},
   "source": [
    "$\\quad$ (4) $\\quad = -1$"
   ]
  },
  {
   "cell_type": "code",
   "execution_count": null,
   "metadata": {},
   "outputs": [],
   "source": []
  }
 ],
 "metadata": {
  "kernelspec": {
   "display_name": "Python 3",
   "language": "python",
   "name": "python3"
  },
  "language_info": {
   "codemirror_mode": {
    "name": "ipython",
    "version": 3
   },
   "file_extension": ".py",
   "mimetype": "text/x-python",
   "name": "python",
   "nbconvert_exporter": "python",
   "pygments_lexer": "ipython3",
   "version": "3.7.0"
  }
 },
 "nbformat": 4,
 "nbformat_minor": 4
}
